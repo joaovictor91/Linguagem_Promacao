{
  "nbformat": 4,
  "nbformat_minor": 0,
  "metadata": {
    "colab": {
      "provenance": [],
      "include_colab_link": true
    },
    "kernelspec": {
      "name": "python3",
      "display_name": "Python 3"
    }
  },
  "cells": [
    {
      "cell_type": "markdown",
      "metadata": {
        "id": "view-in-github",
        "colab_type": "text"
      },
      "source": [
        "<a href=\"https://colab.research.google.com/github/joaovictor91/Linguagem_Promacao/blob/main/Jo%C3%A3o_Victor_Amaro_Franco_202_LP_N_Funcao_sc.ipynb\" target=\"_parent\"><img src=\"https://colab.research.google.com/assets/colab-badge.svg\" alt=\"Open In Colab\"/></a>"
      ]
    },
    {
      "cell_type": "markdown",
      "metadata": {
        "id": "skN-Wz61xZzi"
      },
      "source": [
        "### 1. (Função sem retorno com parâmetro) Faça um programa contendo uma função/método que leia um número e o multiplique por 2, apresente o resultado."
      ]
    },
    {
      "cell_type": "code",
      "metadata": {
        "id": "Wbjafj_QxWP-",
        "outputId": "2c036a45-f98a-4579-d29a-57d168a59ce0",
        "colab": {
          "base_uri": "https://localhost:8080/",
          "height": 50
        }
      },
      "source": [
        "def multiplicando(n1):\n",
        "    \n",
        "    \n",
        "    r=n1*2\n",
        "    print(n1,\"x 2 =\",r)\n",
        "\n",
        "def main():\n",
        "    n1=int(input(\"Informe um número \"))\n",
        "    multiplicando(n1)\n",
        "\n",
        "main()\n",
        "\n"
      ],
      "execution_count": null,
      "outputs": [
        {
          "output_type": "stream",
          "text": [
            "Informe um número 5\n",
            "5 x 2 = 10\n"
          ],
          "name": "stdout"
        }
      ]
    },
    {
      "cell_type": "markdown",
      "metadata": {
        "id": "0jPoba3-yLnG"
      },
      "source": [
        "### 2. (Função sem retorno com parâmetro) Faça um programa contendo uma função/método para subtrair dois números e apresentar o resultado."
      ]
    },
    {
      "cell_type": "code",
      "metadata": {
        "id": "UHD2oMlJyLzc",
        "outputId": "1cb9ea15-1038-469d-ae1f-013ef7e3e0a6",
        "colab": {
          "base_uri": "https://localhost:8080/",
          "height": 67
        }
      },
      "source": [
        "def subtracao_numero(n1,n2):\n",
        "\n",
        "    r=n1-n2\n",
        "    print(n1,\"-\",n2,\"=\",r)\n",
        "\n",
        "def main():\n",
        "    n1=int(input(\"Informe um número \"))\n",
        "    n2=int(input(\"Informe outro número \" ))\n",
        "    subtracao_numero(n1,n2)\n",
        "\n",
        "main()\n"
      ],
      "execution_count": null,
      "outputs": [
        {
          "output_type": "stream",
          "text": [
            "Informe um número 10\n",
            "Informe outro número 2\n",
            "10 - 2 = 8\n"
          ],
          "name": "stdout"
        }
      ]
    },
    {
      "cell_type": "markdown",
      "metadata": {
        "id": "HAz_eYfhzg06"
      },
      "source": [
        "### 3. (Função sem retorno com parâmetro) Faça uma função/método que calcule a média de um aluno que realizou duas provas (P1 e P2), a partir desta média, chame/crie OUTRA função que verifique se esta média aprova ou reprova o aluno.\n"
      ]
    },
    {
      "cell_type": "code",
      "metadata": {
        "id": "Cg-NIjInzfmU",
        "outputId": "31176d99-861b-416e-8369-91ea3a1e7f8b",
        "colab": {
          "base_uri": "https://localhost:8080/",
          "height": 84
        }
      },
      "source": [
        "def condicao(media):\n",
        "    if media>7:\n",
        "        print(\"Aprovado\")\n",
        "\n",
        "    else:\n",
        "        print(\"Reprovado\")\n",
        "\n",
        "\n",
        "def nota(p1,p2):\n",
        "    media=(p1+p2)/2\n",
        "    print(\"A média é\",media)\n",
        "    condicao(media)\n",
        "\n",
        "        \n",
        "def main():\n",
        "    p1=int(input(\"Informe a nota da P1: \"))\n",
        "    p2=int(input(\"Informe a nota da P2: \"))\n",
        "\n",
        "    nota(p1,p2)\n",
        "    \n",
        "\n",
        "main()"
      ],
      "execution_count": null,
      "outputs": [
        {
          "output_type": "stream",
          "text": [
            "Informe a nota da P1: 5\n",
            "Informe a nota da P2: 5\n",
            "A média é 5.0\n",
            "Reprovado\n"
          ],
          "name": "stdout"
        }
      ]
    },
    {
      "cell_type": "markdown",
      "metadata": {
        "id": "_aPd4c1b3OjS"
      },
      "source": [
        "### 4. (Função sem retorno com parâmetro) Faça uma função/método para a partir de um preço de um produto informado, calcular e apresentar o novo preço reajustado em 9%."
      ]
    },
    {
      "cell_type": "code",
      "metadata": {
        "id": "Q6LPIy_LCQuO",
        "outputId": "320bd8f0-b048-4a4f-e339-b01bbf83bfd9",
        "colab": {
          "base_uri": "https://localhost:8080/",
          "height": 50
        }
      },
      "source": [
        "def reajuste(n):\n",
        "  reajuste=n*0.09\n",
        "  novo_preco=n+reajuste\n",
        "  print(\"O novo preço do produto com o reajuste é de R$\",novo_preco)\n",
        "\n",
        "def main():\n",
        "  preco=float(input(\"Informe o preço do produto: R$\"))\n",
        "  reajuste(preco)\n",
        "  \n",
        "\n",
        "main()\n"
      ],
      "execution_count": null,
      "outputs": [
        {
          "output_type": "stream",
          "text": [
            "Informe o preço do produto: R$10\n",
            "O novo preço do produto com o reajuste é de R$ 10.9\n"
          ],
          "name": "stdout"
        }
      ]
    },
    {
      "cell_type": "markdown",
      "metadata": {
        "id": "JgYwP3n1CQ_U"
      },
      "source": [
        "### 5. (Função sem retorno com parâmetro) Faça uma função/método para a partir de um preço de um produto informado, calcular e apresentar o novo preço reajustado em alguma porcentagem lida."
      ]
    },
    {
      "cell_type": "code",
      "metadata": {
        "id": "fb6TwQ_yh_To",
        "outputId": "549738ea-371e-461c-cd3b-51dfca7ebf63",
        "colab": {
          "base_uri": "https://localhost:8080/",
          "height": 67
        }
      },
      "source": [
        "def reajuste(n1,n2):\n",
        "  reajuste=n1*(n2/100)\n",
        "  novo_preco=n1+reajuste\n",
        "  print(\"O novo preço do produto com o reajuste é de R$\",novo_preco)\n",
        "\n",
        "def main():\n",
        "  preco=float(input(\"Informe o preço do produto: R$\"))\n",
        "  porcentagem=float(input(\"Informe a porcentagem para o reajuste\" ))\n",
        "  reajuste(preco,porcentagem)\n",
        "  \n",
        "\n",
        "main()\n"
      ],
      "execution_count": null,
      "outputs": [
        {
          "output_type": "stream",
          "text": [
            "Informe o preço do produto: R$10\n",
            "Informe a porcentagem para o reajuste50\n",
            "O novo preço do produto com o reajuste é de R$ 15.0\n"
          ],
          "name": "stdout"
        }
      ]
    },
    {
      "cell_type": "markdown",
      "metadata": {
        "id": "fZNXRUrrh_g9"
      },
      "source": [
        "### 6. (Função sem retorno com parâmetro) Faça uma função/método para a partir de um valor inicial e um valor final realizar o acumulo desse valores e apresentar o resultado.\n",
        "    Exemplo:\n",
        "        a = 2\n",
        "        b = 8\n",
        "        // 2 + 3 + 4 + 5 + 6 + 7 + 8 = 35\n",
        "        r = 35"
      ]
    },
    {
      "cell_type": "code",
      "metadata": {
        "id": "qA3MK3i1lJ-B",
        "outputId": "52d0ccd2-a28c-4641-89b8-04f0950ee5d5",
        "colab": {
          "base_uri": "https://localhost:8080/",
          "height": 67
        }
      },
      "source": [
        "def soma_numeros(n1,n2):\n",
        "  soma=0\n",
        "  while n1<=n2:\n",
        "    soma=n1+soma\n",
        "    n1+=1\n",
        "  print(\"O resultado é \",soma)\n",
        "\n",
        "def main():\n",
        "  n1=int(input(\"Informe o valor inicial: \"))\n",
        "  n2=int(input(\"Informe o valor final: \"))\n",
        "\n",
        "  soma_numeros(n1,n2)\n",
        "\n",
        "main()\n",
        "  \n",
        "\n"
      ],
      "execution_count": null,
      "outputs": [
        {
          "output_type": "stream",
          "text": [
            "Informe o valor inicial: 2\n",
            "Informe o valor inicial: 8\n",
            "O resultado é  35\n"
          ],
          "name": "stdout"
        }
      ]
    },
    {
      "cell_type": "markdown",
      "metadata": {
        "id": "qC3ghcOalLBi"
      },
      "source": [
        "### 7. (Função sem retorno com parâmetro) Faça uma função/método sem parâmetro, para ler um valor e chamar/criar OUTRA função (com parâmetro) que mostre se o valor é par ou ímpar."
      ]
    },
    {
      "cell_type": "code",
      "metadata": {
        "id": "73QPAAO0q2Wo",
        "outputId": "992e27ca-5ec6-4cd2-b184-1e0f0c6cd4dd",
        "colab": {
          "base_uri": "https://localhost:8080/",
          "height": 50
        }
      },
      "source": [
        "def par_ou_impar(n):\n",
        "  \n",
        "  if n %2==0:\n",
        "    print(n,\"é par\")\n",
        "  else:\n",
        "    print(n,\"é impar\")\n",
        "\n",
        "def numerro():\n",
        "  n=int(input(\"Informe um número: \"))\n",
        "  par_ou_impar(n)\n",
        "\n",
        "def main():\n",
        "  numerro()\n",
        "\n",
        "  \n",
        "\n",
        "main()"
      ],
      "execution_count": null,
      "outputs": [
        {
          "output_type": "stream",
          "text": [
            "Informe um número: 6\n",
            "6 é par\n"
          ],
          "name": "stdout"
        }
      ]
    },
    {
      "cell_type": "markdown",
      "metadata": {
        "id": "Go_7xqNQq2oY"
      },
      "source": [
        "### 8. (Função sem retorno com parâmetro) Faça uma função/método para calcular a tabuada de um número informado pelo usuário."
      ]
    },
    {
      "cell_type": "code",
      "metadata": {
        "id": "BgfVTL9-0WQi",
        "outputId": "f29f659f-0063-4527-92da-8457f99cd736",
        "colab": {
          "base_uri": "https://localhost:8080/",
          "height": 218
        }
      },
      "source": [
        "def tabuada(n):\n",
        "  for cont in range(11):\n",
        "    r=cont*n\n",
        "    print(cont,\"x\",n,\"=\",r)\n",
        "\n",
        "def main():\n",
        "  n=int(input(\"Informe o número \"))\n",
        "  tabuada(n)\n",
        "\n",
        "main()"
      ],
      "execution_count": null,
      "outputs": [
        {
          "output_type": "stream",
          "text": [
            "Informe o número 2\n",
            "0 x 2 = 0\n",
            "1 x 2 = 2\n",
            "2 x 2 = 4\n",
            "3 x 2 = 6\n",
            "4 x 2 = 8\n",
            "5 x 2 = 10\n",
            "6 x 2 = 12\n",
            "7 x 2 = 14\n",
            "8 x 2 = 16\n",
            "9 x 2 = 18\n",
            "10 x 2 = 20\n"
          ],
          "name": "stdout"
        }
      ]
    },
    {
      "cell_type": "markdown",
      "metadata": {
        "id": "IGOQmdAe0myM"
      },
      "source": [
        "### 9. (Função sem retorno com parâmetro) Faça uma função/método para verificar se um nome digitado é igual a ‘Ana’, mostre o valor true ou false como resposta."
      ]
    },
    {
      "cell_type": "code",
      "metadata": {
        "id": "A4-CekXy0vrz",
        "outputId": "136d937c-3a3c-4aad-a46d-cd9ec048ca2c",
        "colab": {
          "base_uri": "https://localhost:8080/",
          "height": 50
        }
      },
      "source": [
        "def nome_verifica(nome):\n",
        "  if nome==\"Ana\":\n",
        "    nome=True\n",
        "    print(nome)\n",
        "  else:\n",
        "    nome=False\n",
        "    print(nome)\n",
        "\n",
        "def main():\n",
        "  nome=input(\"Informe o nome: \")\n",
        "  nome_verifica(nome)\n",
        "\n",
        "main()"
      ],
      "execution_count": null,
      "outputs": [
        {
          "output_type": "stream",
          "text": [
            "Informe o nome: Ana\n",
            "True\n"
          ],
          "name": "stdout"
        }
      ]
    },
    {
      "cell_type": "markdown",
      "metadata": {
        "id": "W2PqWZm20v6M"
      },
      "source": [
        "### 10. (Função sem retorno com parâmetro) Faça uma função/método para verificar e contar quantas letras a tem numa frase."
      ]
    },
    {
      "cell_type": "code",
      "metadata": {
        "id": "U9eTKxuz1c7S",
        "outputId": "bce4c5b5-d10b-4e71-90fc-f9994c3d7e99",
        "colab": {
          "base_uri": "https://localhost:8080/",
          "height": 50
        }
      },
      "source": [
        "def letras_quantidade(nome):\n",
        "  cont=0\n",
        "  for i in range(len(nome)):\n",
        "    if nome[i]==\"a\":\n",
        "      cont+=1\n",
        "    \n",
        "  print(\"A palavra\",nome,\"tem letras a\",cont)\n",
        "\n",
        "def main():\n",
        "  nome=input(\"Digite uma palavra: \")\n",
        "  letras_quantidade(nome)\n",
        "\n",
        "main()"
      ],
      "execution_count": null,
      "outputs": [
        {
          "output_type": "stream",
          "text": [
            "Digite uma palavra: bebe\n",
            "A palavra bebe tem letras a 0\n"
          ],
          "name": "stdout"
        }
      ]
    }
  ]
}