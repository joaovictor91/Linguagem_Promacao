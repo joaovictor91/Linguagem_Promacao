{
  "nbformat": 4,
  "nbformat_minor": 0,
  "metadata": {
    "colab": {
      "provenance": [],
      "include_colab_link": true
    },
    "kernelspec": {
      "name": "python3",
      "display_name": "Python 3"
    }
  },
  "cells": [
    {
      "cell_type": "markdown",
      "metadata": {
        "id": "view-in-github",
        "colab_type": "text"
      },
      "source": [
        "<a href=\"https://colab.research.google.com/github/joaovictor91/Linguagem_Promacao/blob/main/Jo%C3%A3o_Victor_Amaro_Franco_202_LP_N_Funcao_cc.ipynb\" target=\"_parent\"><img src=\"https://colab.research.google.com/assets/colab-badge.svg\" alt=\"Open In Colab\"/></a>"
      ]
    },
    {
      "cell_type": "markdown",
      "metadata": {
        "id": "skN-Wz61xZzi"
      },
      "source": [
        "### 1. (Função com retorno com parâmetro) Faça um programa contendo uma função/método que receba por parâmetro um número e o multiplique por 2, retorne e apresente o resultado da função."
      ]
    },
    {
      "cell_type": "code",
      "metadata": {
        "id": "Wbjafj_QxWP-",
        "outputId": "27c6107a-0e94-4a79-9a5b-7635c0855475",
        "colab": {
          "base_uri": "https://localhost:8080/",
          "height": 50
        }
      },
      "source": [
        "def multiplicando(n1):\n",
        "    \n",
        "    \n",
        "    r=n1*2\n",
        "    return(r)\n",
        "\n",
        "def main():\n",
        "    n1=int(input(\"Informe um número \"))\n",
        "    resultado=multiplicando(n1)\n",
        "\n",
        "    print(n1,\"x 2 =\",resultado)\n",
        "\n",
        "main()\n"
      ],
      "execution_count": null,
      "outputs": [
        {
          "output_type": "stream",
          "text": [
            "Informe um número 5\n",
            "5 x 2 = 10\n"
          ],
          "name": "stdout"
        }
      ]
    },
    {
      "cell_type": "markdown",
      "metadata": {
        "id": "0jPoba3-yLnG"
      },
      "source": [
        "### 2. (Função com retorno com parâmetro) Faça um programa contendo uma função/método que receba dois números via parâmetro, some os dois valores, retorne e apresente o resultado."
      ]
    },
    {
      "cell_type": "code",
      "metadata": {
        "id": "UHD2oMlJyLzc",
        "outputId": "e8e556cc-012d-4d83-cb02-6a6fcba6e852",
        "colab": {
          "base_uri": "https://localhost:8080/",
          "height": 67
        }
      },
      "source": [
        "def subtracao_numero(n1,n2):\n",
        "\n",
        "    r=n1+n2\n",
        "    return(r)\n",
        "\n",
        "def main():\n",
        "    n1=int(input(\"Informe um número \"))\n",
        "    n2=int(input(\"Informe outro número \" ))\n",
        "    resultado=subtracao_numero(n1,n2)\n",
        "    print(n1,\"+\",n2,\"=\",resultado)\n",
        "\n",
        "main()"
      ],
      "execution_count": null,
      "outputs": [
        {
          "output_type": "stream",
          "text": [
            "Informe um número 5\n",
            "Informe outro número 5\n",
            "5 + 5 = 10\n"
          ],
          "name": "stdout"
        }
      ]
    },
    {
      "cell_type": "markdown",
      "metadata": {
        "id": "4zGuLRRXt0D_"
      },
      "source": [
        "### 3. (Função com retorno com parâmetro) Faça um programa contendo uma função/método que receba um valor de porcentagem de aumento via parâmetro, aplique este aumento a um salário de um funcionário, retorne e apresente o novo salário."
      ]
    },
    {
      "cell_type": "code",
      "metadata": {
        "id": "nU0x1v2Vt1-w",
        "outputId": "ce58c11c-e187-419c-c80c-d272d5c931db",
        "colab": {
          "base_uri": "https://localhost:8080/",
          "height": 67
        }
      },
      "source": [
        "def aumento(n1,n2):\n",
        "  valor_porcentagem=n1*(n2/100)\n",
        "  r=n1+valor_porcentagem\n",
        "  return(r)\n",
        "\n",
        "\n",
        "def main():\n",
        "  salario=float(input(\"Informe o salário: R$\"))\n",
        "  aumento_salario=float(input(\"Informe a porcentagem de aumento: \"))\n",
        "  novo_salario=aumento(salario,aumento_salario)\n",
        "  print(\"O novo salário é de R$\",novo_salario)\n",
        "\n",
        "main()\n",
        "\n"
      ],
      "execution_count": null,
      "outputs": [
        {
          "output_type": "stream",
          "text": [
            "Informe o salário: R$1000\n",
            "Informe a porcentagem de aumento: 50\n",
            "O novo salário é de R$ 1500.0\n"
          ],
          "name": "stdout"
        }
      ]
    },
    {
      "cell_type": "markdown",
      "metadata": {
        "id": "hfkLntgNTWN1"
      },
      "source": [
        "### 4. (Função com retorno com parâmetro) Faça um programa contendo uma função/método que receba um valor de porcentagem de aumento e um salário via parâmetro, aplique este aumento ao salário do funcionário. Na parte principal do programa, na chamada da função, utilize um laço de repetição para ler 10 salários, chame a função para aplicar o aumento e gerar o novo salário, ainda dentro da estrutura de repetição acumule os novos salários e ao final apresente quanto será gasto no novo salário. Também apresente qual será a diferença entre o que se pagava para todos os funcionário e o que será pago após o aumento."
      ]
    },
    {
      "cell_type": "code",
      "metadata": {
        "id": "fxdxfiezw8Bs",
        "outputId": "918b58e5-b9fc-4257-9249-d9209ee68101",
        "colab": {
          "base_uri": "https://localhost:8080/",
          "height": 134
        }
      },
      "source": [
        "def aumento(n1,n2):\n",
        "\n",
        "  soma=0\n",
        "  soma2=0\n",
        "  cont=1\n",
        " \n",
        "\n",
        "  valor_porcentagem=n1*(n2/100)\n",
        "  r=n1+valor_porcentagem\n",
        "  \n",
        "    \n",
        "  \n",
        "\n",
        "  return(r)\n",
        "  \n",
        "\n",
        "\n",
        "def main():\n",
        "  total_salario_antigo=0\n",
        "  total=0\n",
        "  for cont in range(10): \n",
        "\n",
        "    salario=float(input(\"Informe o salário: R$\"))\n",
        "    total_salario_antigo+=salario\n",
        "\n",
        "    aumento_salario=float(input(\"Informe a porcentagem de aumento: \")) \n",
        "    novo_salario=aumento(salario,aumento_salario)\n",
        "    total=total+novo_salario\n",
        "    diferenca_pagamento=total-total_salario_antigo\n",
        "\n",
        "\n",
        "  print(\"O total com o novo salário R$\",total)\n",
        "  print(\"O total com o antigo salário R$\",total_salario_antigo)\n",
        "  print(\"A diferença do pagamento R$\",diferenca_pagamento)\n",
        "\n",
        "main()"
      ],
      "execution_count": null,
      "outputs": [
        {
          "output_type": "stream",
          "text": [
            "Informe o salário: R$1000\n",
            "Informe a porcentagem de aumento: 100\n",
            "Informe o salário: R$1000\n",
            "Informe a porcentagem de aumento: 100\n",
            "O total com o novo salário R$ 4000.0\n",
            "O total com o antigo salário R$ 2000.0\n",
            "A diferença do pagamento R$ 2000.0\n"
          ],
          "name": "stdout"
        }
      ]
    },
    {
      "cell_type": "markdown",
      "metadata": {
        "id": "RIGUAKHveTJS"
      },
      "source": [
        "### 5. (Função com retorno com parâmetro) Faça um programa contendo uma função/método que receba duas notas (P1, P2) calcule a média, chame outra função que avalie se este aluno esta aprovado ou reprovado retornando a str/string 'Aprovado' ou 'Reprovado'."
      ]
    },
    {
      "cell_type": "code",
      "metadata": {
        "id": "ik7rbrWyw41F",
        "outputId": "a4e04b09-96af-4840-b426-b0aac7f1b876",
        "colab": {
          "base_uri": "https://localhost:8080/",
          "height": 67
        }
      },
      "source": [
        "def condicao(media):\n",
        "    if media>=6:\n",
        "        print(\"Aprovado\")\n",
        "\n",
        "    else:\n",
        "        print(\"Reprovado\")\n",
        "\n",
        "\n",
        "def nota(p1,p2):\n",
        "    media=(p1+p2)/2\n",
        "    \n",
        "    return media\n",
        "    \n",
        "    \n",
        "\n",
        "        \n",
        "def main():\n",
        "    p1=float(input(\"Informe a nota da P1: \"))\n",
        "    p2=float(input(\"Informe a nota da P2: \"))\n",
        "\n",
        "    m= nota(p1,p2)\n",
        "    print(\"A média é \",m)\n",
        "    condicao(m)\n",
        "    \n",
        "\n",
        "main()"
      ],
      "execution_count": null,
      "outputs": [
        {
          "output_type": "stream",
          "text": [
            "Informe a nota da P1: 10\n",
            "Informe a nota da P2: 10\n",
            "A média é de 10.0\n"
          ],
          "name": "stdout"
        }
      ]
    },
    {
      "cell_type": "markdown",
      "metadata": {
        "id": "_aPd4c1b3OjS"
      },
      "source": [
        "### 6. (Função com retorno com parâmetro) Faça um programa contendo algumas funções:\n",
        "a) Função para construir um menu de opções para uma calculadora:\n",
        "\n",
        "    *** Minha Calculadora ***\n",
        "    Digite um número.....: \n",
        "    Digite outro número..: \n",
        "        + Soma dois números\n",
        "        - Subtrai dois números\n",
        "        * Multiplica dois números\n",
        "        / Divide dois números\n",
        "    Qual opção deseja? \n",
        "\n",
        "b) Desenvolva uma função para cada opção de cálculo, mas estas não terão retorno.\n",
        "\n",
        "Observação: Na chamada da função deve-se utilizar uma estrutura de repetição que permita diversos cálculos, quando o usuário quiser sair da calculadora digitará qualquer valor diferente dos caracteres do menu.\n",
        "\n",
        "A função de desenho/construção do menu, chamará todas as outras passando a elas os valores digitados.\n"
      ]
    },
    {
      "cell_type": "code",
      "metadata": {
        "id": "Q6LPIy_LCQuO",
        "outputId": "672c3847-7cfa-4326-deb0-57b5c843b487",
        "colab": {
          "base_uri": "https://localhost:8080/"
        }
      },
      "source": [
        "def soma(n1,n2):\n",
        "  r=n1+n2\n",
        "  return(r)\n",
        "    \n",
        "\n",
        "def subtracao(n1,n2):\n",
        "  r=n1-n2\n",
        "  return(r)\n",
        "    \n",
        "\n",
        "def divisao(n1,n2):\n",
        "  r=n1/n2\n",
        "  return(r)\n",
        "    \n",
        "def multiplicacao(n1,n2):\n",
        "  r=n1*n2\n",
        "  return(r)\n",
        "    \n",
        "def calcular():\n",
        "\n",
        "  print(\"Qual operção deseja calcular:\")\n",
        "  print(\"+ para adição\")\n",
        "  print(\"- para subtração\")\n",
        "  print(\"/ ou : para divisão\")\n",
        "  print(\"x ou * ou . para multiplicação\")\n",
        "  print(\"Para sair apenas digite 0\")\n",
        "  sinal=input(\"Informe qual operação deseja: \")\n",
        "  return sinal\n",
        "\n",
        "\n",
        "def main():\n",
        "\n",
        "  \n",
        "    \n",
        "\n",
        "  operacao=calcular()\n",
        "  while operacao!=\"0\":\n",
        "    \n",
        "    n1=int(input(\"Informe um número \"))\n",
        "    n2=int(input(\"Informe outro número \" ))\n",
        "   \n",
        "    \n",
        "\n",
        "    \n",
        "\n",
        "    if operacao==\"+\":\n",
        "      resultado=soma(n1,n2)\n",
        "      print(n1,\"+\",n2,\"=\",resultado)\n",
        "\n",
        "    if operacao==\"-\":\n",
        "      resultado=subtracao(n1,n2)\n",
        "      print(n1,\"-\",n2,\"=\",resultado)\n",
        "\n",
        "    if operacao==\"/\" or operacao==\":\":\n",
        "      resultado=divisao(n1,n2)\n",
        "      print(n1,\":\",n2,\"=\",resultado)\n",
        "\n",
        "    if operacao==\"x\" or operacao==\"*\" or operacao==\".\":\n",
        "      resultado=multiplicacao(n1,n2)\n",
        "      print(n1,\"x\",n2,\"=\",resultado)\n",
        "    \n",
        "    operacao=calcular()\n",
        "\n",
        "main()\n"
      ],
      "execution_count": null,
      "outputs": [
        {
          "output_type": "stream",
          "text": [
            "Qual operção deseja calcular:\n",
            "+ para adição\n",
            "- para subtração\n",
            "/ ou : para divisão\n",
            "x para multiplicação\n",
            "Para sair apenas digite 0\n",
            "Informe qual operação deseja: +\n",
            "Informe um número 15\n",
            "Informe outro número 10\n",
            "15 + 10 = 25\n",
            "Qual operção deseja calcular:\n",
            "+ para adição\n",
            "- para subtração\n",
            "/ ou : para divisão\n",
            "x para multiplicação\n",
            "Para sair apenas digite 0\n",
            "Informe qual operação deseja: -\n",
            "Informe um número 15\n",
            "Informe outro número 10\n",
            "15 - 10 = 5\n",
            "Qual operção deseja calcular:\n",
            "+ para adição\n",
            "- para subtração\n",
            "/ ou : para divisão\n",
            "x para multiplicação\n",
            "Para sair apenas digite 0\n",
            "Informe qual operação deseja: x\n",
            "Informe um número 2\n",
            "Informe outro número 2\n",
            "2 x 2 = 4\n",
            "Qual operção deseja calcular:\n",
            "+ para adição\n",
            "- para subtração\n",
            "/ ou : para divisão\n",
            "x para multiplicação\n",
            "Para sair apenas digite 0\n",
            "Informe qual operação deseja: /\n",
            "Informe um número 2\n",
            "Informe outro número 2\n",
            "2 : 2 = 1.0\n",
            "Qual operção deseja calcular:\n",
            "+ para adição\n",
            "- para subtração\n",
            "/ ou : para divisão\n",
            "x para multiplicação\n",
            "Para sair apenas digite 0\n",
            "Informe qual operação deseja: 0\n"
          ],
          "name": "stdout"
        }
      ]
    }
  ]
}